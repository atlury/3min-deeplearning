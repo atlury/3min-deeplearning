{
 "cells": [
  {
   "cell_type": "markdown",
   "metadata": {},
   "source": [
    "# Chap08. Autoencoder\n"
   ]
  },
  {
   "cell_type": "code",
   "execution_count": 7,
   "metadata": {},
   "outputs": [
    {
     "name": "stdout",
     "output_type": "stream",
     "text": [
      "Extracting ../data/mnist/data/train-images-idx3-ubyte.gz\n",
      "Extracting ../data/mnist/data/train-labels-idx1-ubyte.gz\n",
      "Extracting ../data/mnist/data/t10k-images-idx3-ubyte.gz\n",
      "Extracting ../data/mnist/data/t10k-labels-idx1-ubyte.gz\n"
     ]
    }
   ],
   "source": [
    "# 대표적인 비지도(Unsupervised) 학습 방법인 Autoencoder를 구현\n",
    "%matplotlib inline\n",
    "import tensorflow as tf\n",
    "import numpy as np\n",
    "import matplotlib.pyplot as plt\n",
    "\n",
    "from tensorflow.examples.tutorials.mnist import input_data\n",
    "mnist = input_data.read_data_sets('../data/mnist/data/', one_hot=True)"
   ]
  },
  {
   "cell_type": "code",
   "execution_count": 2,
   "metadata": {},
   "outputs": [],
   "source": [
    "#######\n",
    "# 0. 옵션 설정\n",
    "#######\n",
    "\n",
    "# 1) hyper parameters\n",
    "learning_rate = 0.01\n",
    "training_epoch = 20 # 전체 데이터를 학습할 총 횟수\n",
    "batch_size = 100 # Mini-batch 사이즈\n",
    "\n",
    "# 2) neural layer 구성 옵션\n",
    "n_hidden = 256 # hidden layer의 뉴런 갯수\n",
    "n_input = 28*28 # input의 크기 - 이미지 픽셀 수"
   ]
  },
  {
   "cell_type": "code",
   "execution_count": 3,
   "metadata": {},
   "outputs": [],
   "source": [
    "#######\n",
    "# 1. Autoencoder 구성\n",
    "#######\n",
    "# Autoencoder는 NN의 Unsupervised Learning 이므로\n",
    "# label에 해당하는 Y가 없고, 입력값 X를 Y로 사용함\n",
    "X = tf.placeholder(tf.float32, [None, n_input]) # [batch_size, 784]\n",
    "\n",
    "# Encoder layer와 Decoder layer의 가중치(W)와 편향(b) 변수를 설정\n",
    "# Input -> Encoder -> Decoder -> output 을 구성하기 위한 값들임\n",
    "# Autoencoder에서는 hidden layer의 노드 수는 입력(input)값의 노드 수 보다 작음\n",
    "# -> 입력값(Input)을 압축하고 노이즈를 제거하면서 입력값의 특징을 찾아내게 됨\n",
    "\n",
    "W_encode = tf.get_variable(name='W_encode', shape=[n_input, n_hidden], # (784, 256) \n",
    "                           initializer=tf.contrib.layers.xavier_initializer()) \n",
    "b_encode = tf.get_variable(name='b_encode', shape=[n_hidden], # (256, )\n",
    "                           initializer=tf.contrib.layers.xavier_initializer())\n",
    "\n",
    "# sigmoid 함수를 이용해 NN layer를 구성함\n",
    "# Encoder layer 구성\n",
    "encoder = tf.nn.sigmoid(tf.add(tf.matmul(X, W_encode), b_encode))"
   ]
  },
  {
   "cell_type": "code",
   "execution_count": 4,
   "metadata": {},
   "outputs": [],
   "source": [
    "# encoder의 output 크기를 입력값(784) 보다 작은 크기(256)로 만들어 정보를 압축하여 특성을 뽑아내고,\n",
    "# decoder의 출력을 입력값(784)과 동일한 크기를 갖도록하여 입력과 똑같은 Output을 만들어 내도록 함\n",
    "# Hidden layer의 구성과 특성치를 뽑아내는 알고리즘을 변경하여 다양한 Autoencoer를 만들 수 있음\n",
    "\n",
    "W_decode = tf.get_variable(name='W_decode', shape=[n_hidden, n_input], # (256, 784) \n",
    "                           initializer=tf.contrib.layers.xavier_initializer())\n",
    "b_decode = tf.get_variable(name='b_decode', shape=[n_input], # (784, )\n",
    "                           initializer=tf.contrib.layers.xavier_initializer())\n",
    "\n",
    "decoder = tf.nn.sigmoid(tf.add(tf.matmul(encoder, W_decode), b_decode))\n",
    "\n",
    "# Decoder는 입력값(원래 이미지)와 최대한 같은 결과를 내야 하므로, Decoding한 결과를 평가하기 위해\n",
    "# 입력값인 X 값과 decoder와의 차이를 손실값으로 설정\n",
    "cost = tf.losses.mean_squared_error(labels=X, predictions=decoder)\n",
    "optimizer = tf.train.RMSPropOptimizer(learning_rate).minimize(cost)"
   ]
  },
  {
   "cell_type": "code",
   "execution_count": 14,
   "metadata": {},
   "outputs": [
    {
     "name": "stdout",
     "output_type": "stream",
     "text": [
      "Epoch: 0001 Avg. cost = 0.0678\n",
      "Epoch: 0002 Avg. cost = 0.0092\n",
      "Epoch: 0003 Avg. cost = 0.0065\n",
      "Epoch: 0004 Avg. cost = 0.0054\n",
      "Epoch: 0005 Avg. cost = 0.0048\n",
      "Epoch: 0006 Avg. cost = 0.0044\n",
      "Epoch: 0007 Avg. cost = 0.0041\n",
      "Epoch: 0008 Avg. cost = 0.0039\n",
      "Epoch: 0009 Avg. cost = 0.0037\n",
      "Epoch: 0010 Avg. cost = 0.0036\n",
      "Epoch: 0011 Avg. cost = 0.0035\n",
      "Epoch: 0012 Avg. cost = 0.0034\n",
      "Epoch: 0013 Avg. cost = 0.0033\n",
      "Epoch: 0014 Avg. cost = 0.0032\n",
      "Epoch: 0015 Avg. cost = 0.0031\n",
      "Epoch: 0016 Avg. cost = 0.0031\n",
      "Epoch: 0017 Avg. cost = 0.0030\n",
      "Epoch: 0018 Avg. cost = 0.0030\n",
      "Epoch: 0019 Avg. cost = 0.0029\n",
      "Epoch: 0020 Avg. cost = 0.0029\n",
      "최적화 완료!\n"
     ]
    }
   ],
   "source": [
    "######\n",
    "# 2. Autoencoder 모델 학습\n",
    "######\n",
    "init = tf.global_variables_initializer()\n",
    "sess = tf.Session()\n",
    "sess.run(init)\n",
    "\n",
    "total_batch = int(mnist.train.num_examples / batch_size)\n",
    "\n",
    "for epoch in range(training_epoch):\n",
    "    total_cost = 0\n",
    "    \n",
    "    for i in range(total_batch):\n",
    "        batch_xs, _ = mnist.train.next_batch(batch_size)\n",
    "        _, cost_val = sess.run([optimizer, cost], feed_dict={X: batch_xs})\n",
    "        \n",
    "        total_cost += cost_val\n",
    "        \n",
    "    print('Epoch:', '%04d' % (epoch + 1),\n",
    "          'Avg. cost = {:.4f}'.format(total_cost / total_batch))\n",
    "    \n",
    "print(\"최적화 완료!\")"
   ]
  },
  {
   "cell_type": "code",
   "execution_count": 13,
   "metadata": {},
   "outputs": [
    {
     "data": {
      "image/png": "[encoded data removed]",
      "text/plain": [
       "<matplotlib.figure.Figure at 0x2094ebb08d0>"
      ]
     },
     "metadata": {},
     "output_type": "display_data"
    }
   ],
   "source": [
    "#######\n",
    "# 3. 결과 확인\n",
    "# 입력값(위), Autoencoder가 생성한 값(아래)을 시각화를 통해 비교\n",
    "#######\n",
    "\n",
    "sample_size = 10\n",
    "\n",
    "samples = sess.run(decoder, feed_dict={X: mnist.test.images[:sample_size]})\n",
    "\n",
    "fig, ax = plt.subplots(2, sample_size, figsize=(sample_size, 2))\n",
    "\n",
    "for i in range(sample_size):\n",
    "    ax[0][i].set_axis_off()\n",
    "    ax[1][i].set_axis_off()\n",
    "    ax[0][i].imshow(np.reshape(mnist.test.images[i], (28, 28)), cmap='Greys_r')\n",
    "    ax[1][i].imshow(np.reshape(samples[i], (28, 28)), cmap='Greys_r')"
   ]
  }
 ],
 "metadata": {
  "kernelspec": {
   "display_name": "Python 3",
   "language": "python",
   "name": "python3"
  },
  "language_info": {
   "codemirror_mode": {
    "name": "ipython",
    "version": 3
   },
   "file_extension": ".py",
   "mimetype": "text/x-python",
   "name": "python",
   "nbconvert_exporter": "python",
   "pygments_lexer": "ipython3",
   "version": "3.5.4"
  }
 },
 "nbformat": 4,
 "nbformat_minor": 2
}
