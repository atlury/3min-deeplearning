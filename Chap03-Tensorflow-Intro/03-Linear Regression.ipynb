{
 "cells": [
  {
   "cell_type": "markdown",
   "metadata": {},
   "source": [
    "## 선형 회귀 모델 (Linear Regression Model) 구현"
   ]
  },
  {
   "cell_type": "code",
   "execution_count": 1,
   "metadata": {
    "collapsed": true
   },
   "outputs": [],
   "source": [
    "import tensorflow as tf"
   ]
  },
  {
   "cell_type": "markdown",
   "metadata": {},
   "source": [
    "### 1) 데이터 및 파라미터 설정"
   ]
  },
  {
   "cell_type": "code",
   "execution_count": 4,
   "metadata": {},
   "outputs": [
    {
     "name": "stdout",
     "output_type": "stream",
     "text": [
      "<tf.Variable 'Variable:0' shape=(1,) dtype=float32_ref>\n",
      "<tf.Variable 'Variable_1:0' shape=(1,) dtype=float32_ref>\n"
     ]
    }
   ],
   "source": [
    "# 데이터 생성\n",
    "x_data = [1, 2, 3]\n",
    "y_data = [1, 2, 3]\n",
    "\n",
    "# parameter 설정 (균등분포로 초기화)\n",
    "W = tf.Variable(tf.random_uniform([1], -1.0, 1.0))\n",
    "b = tf.Variable(tf.random_uniform([1], -1.0, 1.0))\n",
    "print(W)\n",
    "print(b)"
   ]
  },
  {
   "cell_type": "code",
   "execution_count": 5,
   "metadata": {},
   "outputs": [
    {
     "name": "stdout",
     "output_type": "stream",
     "text": [
      "Tensor(\"X:0\", dtype=float32)\n",
      "Tensor(\"Y:0\", dtype=float32)\n"
     ]
    }
   ],
   "source": [
    "# 데이터를 넣어줄 placeholder 설정\n",
    "# name: 텐서보드등으로 값의 변화를 추적하거나 살펴보기 쉽게하기 위해 지정\n",
    "X = tf.placeholder(tf.float32, name=\"X\")\n",
    "Y = tf.placeholder(tf.float32, name=\"Y\")\n",
    "print(X)\n",
    "print(Y)"
   ]
  },
  {
   "cell_type": "markdown",
   "metadata": {},
   "source": [
    "### 2) 모델 생성(가설 설정)"
   ]
  },
  {
   "cell_type": "code",
   "execution_count": 7,
   "metadata": {
    "collapsed": true
   },
   "outputs": [],
   "source": [
    "# X와 Y의 상관관계를 분석하기 위한 가설 수식을 설정\n",
    "# y = W * x + b\n",
    "# W와 X가 행렬이 아니므로 tf.matmul을 사용하지 않음\n",
    "hypothesis = W*X + b"
   ]
  },
  {
   "cell_type": "markdown",
   "metadata": {},
   "source": [
    "### 3) 손실 함수(Loss function)"
   ]
  },
  {
   "cell_type": "code",
   "execution_count": 12,
   "metadata": {
    "collapsed": true
   },
   "outputs": [],
   "source": [
    "# https://www.tensorflow.org/api_docs/python/tf/losses/mean_squared_error 참고\n",
    "# cost = tf.reduce_mean(tf.square(hypothesis - Y))\n",
    "# cost = tf.reduce_mean(tf.losses.mean_squared_error(Y, hypothesis))\n",
    "cost = tf.losses.mean_squared_error(Y, hypothesis)\n",
    "\n",
    "# 경사하강법을 이용해 cost 최적화 수행\n",
    "optimizer = tf.train.GradientDescentOptimizer(learning_rate=0.1)\n",
    "\n",
    "# costf(비용)을 최소화 하는것이 목표\n",
    "train_op = optimizer.minimize(cost)"
   ]
  },
  {
   "cell_type": "markdown",
   "metadata": {},
   "source": [
    "### 4) 그래프 실행"
   ]
  },
  {
   "cell_type": "code",
   "execution_count": 17,
   "metadata": {},
   "outputs": [
    {
     "name": "stdout",
     "output_type": "stream",
     "text": [
      "0 0.33583 [ 0.73258632] [ 0.54590666]\n",
      "10 0.0286143 [ 0.80825669] [ 0.43587762]\n",
      "20 0.0175886 [ 0.84967077] [ 0.34173372]\n",
      "30 0.0108113 [ 0.88213986] [ 0.26792368]\n",
      "40 0.00664544 [ 0.90759617] [ 0.21005565]\n",
      "50 0.00408479 [ 0.92755419] [ 0.16468632]\n",
      "60 0.00251083 [ 0.94320154] [ 0.12911625]\n",
      "70 0.00154335 [ 0.95546931] [ 0.10122883]\n",
      "80 0.000948661 [ 0.96508729] [ 0.07936471]\n",
      "90 0.000583119 [ 0.972628] [ 0.06222299]\n",
      "100 0.000358429 [ 0.97854] [ 0.04878361]\n",
      "110 0.000220316 [ 0.9831751] [ 0.03824695]\n",
      "120 0.000135423 [ 0.98680902] [ 0.0299861]\n",
      "\n",
      "=== Test ===\n",
      "X: 5, Y: [ 4.96403074]\n",
      "X: 2.5, Y: [ 2.49700856]\n"
     ]
    }
   ],
   "source": [
    "# 세션을 생성하고 초기화\n",
    "with tf.Session() as sess:\n",
    "    sess.run(tf.global_variables_initializer())\n",
    "    \n",
    "    # 최적화를 120번 수행\n",
    "    for step in range(121):\n",
    "        # sess.run을 통해 train_op와 cost 그래프를 계산\n",
    "        # 이 때, 가설 수식에 넣어야 할 실제값을 feed_dict를 통해 전달\n",
    "        _, cost_val = sess.run([train_op, cost], feed_dict={X: x_data, Y: y_data})\n",
    "        \n",
    "        if step % 10 is 0:\n",
    "            print(step, cost_val, sess.run(W), sess.run(b))\n",
    "        \n",
    "    # 최적화가 완료된 모델에 테스트 값을 넣고 결과가 잘 나오는지 확인\n",
    "    print(\"\\n=== Test ===\")\n",
    "    print(\"X: 5, Y:\", sess.run(hypothesis, feed_dict={X: 5}))\n",
    "    print(\"X: 2.5, Y:\", sess.run(hypothesis, feed_dict={X: 2.5}))"
   ]
  },
  {
   "cell_type": "code",
   "execution_count": null,
   "metadata": {
    "collapsed": true
   },
   "outputs": [],
   "source": []
  }
 ],
 "metadata": {
  "kernelspec": {
   "display_name": "Python 3",
   "language": "python",
   "name": "python3"
  },
  "language_info": {
   "codemirror_mode": {
    "name": "ipython",
    "version": 3
   },
   "file_extension": ".py",
   "mimetype": "text/x-python",
   "name": "python",
   "nbconvert_exporter": "python",
   "pygments_lexer": "ipython3",
   "version": "3.5.3"
  }
 },
 "nbformat": 4,
 "nbformat_minor": 2
}
