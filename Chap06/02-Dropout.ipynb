{
 "cells": [
  {
   "cell_type": "markdown",
   "metadata": {},
   "source": [
    "## Chap06-02. DropOut\n",
    "### 과적합(Overfitting) 방지 기법 중 하나인 Dropout을 사용"
   ]
  },
  {
   "cell_type": "markdown",
   "metadata": {},
   "source": [
    "* 학습 시 전체 신경망 중 일부만 사용하도록 하는것\n",
    "* 즉, 학습 단계마다 일부 뉴런을 제거(사용하지 않도록)함\n",
    "* 일부 특징이 특정 뉴런들에 고정되는 것을 막아 가중치($W_1, W_2, ..., W_n$)의 균형을 잡음"
   ]
  },
  {
   "cell_type": "code",
   "execution_count": 7,
   "metadata": {},
   "outputs": [
    {
     "name": "stdout",
     "output_type": "stream",
     "text": [
      "Extracting ./mnist/data/train-images-idx3-ubyte.gz\n",
      "Extracting ./mnist/data/train-labels-idx1-ubyte.gz\n",
      "Extracting ./mnist/data/t10k-images-idx3-ubyte.gz\n",
      "Extracting ./mnist/data/t10k-labels-idx1-ubyte.gz\n"
     ]
    }
   ],
   "source": [
    "%matplotlib inline\n",
    "import tensorflow as tf\n",
    "import numpy as np\n",
    "import matplotlib.pyplot as plt\n",
    "from tensorflow.examples.tutorials.mnist import input_data\n",
    "\n",
    "# 1. 데이터 로드\n",
    "mnist = input_data.read_data_sets(\"./mnist/data/\", one_hot=True)"
   ]
  },
  {
   "cell_type": "code",
   "execution_count": 3,
   "metadata": {
    "collapsed": true
   },
   "outputs": [],
   "source": [
    "# 2. 신경망 모델 구성\n",
    "\n",
    "# 1) Input(X), Output(Y), dropout 확률 설정(keep_prob)\n",
    "X = tf.placeholder(tf.float32, [None, 784])\n",
    "Y = tf.placeholder(tf.float32, [None, 10])\n",
    "keep_prob = tf.placeholder(tf.float32)\n",
    "\n",
    "# 2) 신경망 레이어(layer) 설정\n",
    "# Input[Batch,784] -> Hidden(1)[256] -> Hidden(2)[256] -> Output[Batch, 10]\n",
    "\n",
    "# 1st layer\n",
    "W1 = tf.get_variable(name='W1', shape=[784, 256],\n",
    "                     initializer=tf.contrib.layers.xavier_initializer())\n",
    "L1 = tf.nn.relu(tf.matmul(X, W1))\n",
    "# tensorflow에 내장된 함수를 이용하여 dropout 적용\n",
    "# 함수에 적용할 layer와 확률(keep_prob)만 넣어주면 됨\n",
    "L1 = tf.nn.dropout(L1, keep_prob=keep_prob)\n",
    "\n",
    "# 2nd layer\n",
    "W2 = tf.get_variable(name='W2', shape=[256, 256],\n",
    "                     initializer=tf.contrib.layers.xavier_initializer())\n",
    "L2 = tf.nn.relu(tf.matmul(L1, W2))\n",
    "L2 = tf.nn.dropout(L2, keep_prob=keep_prob)\n",
    "\n",
    "# output layer\n",
    "W3 = tf.get_variable(name='W3', shape=[256, 10],\n",
    "                     initializer=tf.contrib.layers.xavier_initializer())\n",
    "model = tf.matmul(L2, W3)"
   ]
  },
  {
   "cell_type": "code",
   "execution_count": 4,
   "metadata": {
    "collapsed": true
   },
   "outputs": [],
   "source": [
    "# 3) 손실함수(Loss function) 설정\n",
    "cost = tf.losses.softmax_cross_entropy(logits=model, onehot_labels=Y)\n",
    "optimizer = tf.train.AdamOptimizer(learning_rate=0.001).minimize(cost)"
   ]
  },
  {
   "cell_type": "code",
   "execution_count": 5,
   "metadata": {},
   "outputs": [
    {
     "name": "stdout",
     "output_type": "stream",
     "text": [
      "Epoch: 0001, Avg. cost = 0.306\n",
      "Epoch: 0002, Avg. cost = 0.126\n",
      "Epoch: 0003, Avg. cost = 0.092\n",
      "Epoch: 0004, Avg. cost = 0.075\n",
      "Epoch: 0005, Avg. cost = 0.062\n",
      "Epoch: 0006, Avg. cost = 0.053\n",
      "Epoch: 0007, Avg. cost = 0.048\n",
      "Epoch: 0008, Avg. cost = 0.043\n",
      "Epoch: 0009, Avg. cost = 0.038\n",
      "Epoch: 0010, Avg. cost = 0.036\n",
      "Epoch: 0011, Avg. cost = 0.031\n",
      "Epoch: 0012, Avg. cost = 0.030\n",
      "Epoch: 0013, Avg. cost = 0.027\n",
      "Epoch: 0014, Avg. cost = 0.024\n",
      "Epoch: 0015, Avg. cost = 0.024\n",
      "Epoch: 0016, Avg. cost = 0.024\n",
      "Epoch: 0017, Avg. cost = 0.024\n",
      "Epoch: 0018, Avg. cost = 0.021\n",
      "Epoch: 0019, Avg. cost = 0.022\n",
      "Epoch: 0020, Avg. cost = 0.018\n",
      "Epoch: 0021, Avg. cost = 0.020\n",
      "Epoch: 0022, Avg. cost = 0.021\n",
      "Epoch: 0023, Avg. cost = 0.018\n",
      "Epoch: 0024, Avg. cost = 0.015\n",
      "Epoch: 0025, Avg. cost = 0.018\n",
      "Epoch: 0026, Avg. cost = 0.017\n",
      "Epoch: 0027, Avg. cost = 0.019\n",
      "Epoch: 0028, Avg. cost = 0.017\n",
      "Epoch: 0029, Avg. cost = 0.014\n",
      "Epoch: 0030, Avg. cost = 0.015\n",
      "최적화 완료!\n"
     ]
    }
   ],
   "source": [
    "# 3. 신경망 모델 학습\n",
    "\n",
    "# 1) 세션 초기화\n",
    "init = tf.global_variables_initializer()\n",
    "sess = tf.Session()\n",
    "sess.run(init)\n",
    "\n",
    "# 2) batch size 설정\n",
    "batch_size = 100\n",
    "total_batch = int(mnist.train.num_examples / batch_size)\n",
    "\n",
    "# 3) 최적화 진행\n",
    "for epoch in range(30):\n",
    "    total_cost = 0\n",
    "    \n",
    "    for i in range(total_batch):\n",
    "        batch_xs, batch_ys = mnist.train.next_batch(batch_size)\n",
    "        \n",
    "        _, cost_val = sess.run([optimizer, cost], feed_dict={X: batch_xs,\n",
    "                                                             Y: batch_ys,\n",
    "                                                             keep_prob: 0.8})\n",
    "        total_cost += cost_val\n",
    "        \n",
    "    print('Epoch: {:04d}, Avg. cost = {:.3f}'.format((epoch+1), (total_cost / total_batch)))\n",
    "    \n",
    "print(\"최적화 완료!\")"
   ]
  },
  {
   "cell_type": "code",
   "execution_count": 6,
   "metadata": {},
   "outputs": [
    {
     "name": "stdout",
     "output_type": "stream",
     "text": [
      "정확도: 0.9843\n"
     ]
    }
   ],
   "source": [
    "# 4. 결과 확인\n",
    "is_correct = tf.equal(tf.argmax(model, 1), tf.argmax(Y, 1))\n",
    "accuracy = tf.reduce_mean(tf.cast(is_correct, tf.float32))\n",
    "\n",
    "# 테스트, 즉 예측 시에는 keep_prob=1을 넣어 신경망 전체를 사용하도록 해야함\n",
    "print('정확도:', sess.run(accuracy, feed_dict={X: mnist.test.images,\n",
    "                                               Y: mnist.test.labels,\n",
    "                                               keep_prob: 1}))"
   ]
  },
  {
   "cell_type": "code",
   "execution_count": 9,
   "metadata": {},
   "outputs": [
    {
     "data": {
      "image/png": "[encoded data removed]",
      "text/plain": [
       "<matplotlib.figure.Figure at 0x7fcfa3f11278>"
      ]
     },
     "metadata": {},
     "output_type": "display_data"
    }
   ],
   "source": [
    "# 5. 결과 확인 : matplotlib\n",
    "labels = sess.run(model, feed_dict={X: mnist.test.images,\n",
    "                                    Y: mnist.test.labels,\n",
    "                                    keep_prob: 1})\n",
    "\n",
    "fig = plt.figure()\n",
    "for i in range(10):\n",
    "    # 2행 5열의 그래프를 만들고, i+1번째에 숫자 이미지를 출력\n",
    "    subplot = fig.add_subplot(2, 5, i+1)\n",
    "    # 이미지를 깨끗하게 출력하기 위해 x와 y의 눈금을 출력하지 않음\n",
    "    subplot.set_xticks([])\n",
    "    subplot.set_yticks([])\n",
    "    # 출력한 이미지 위에 예측한 숫자를 출력\n",
    "    subplot.set_title('{}'.format(np.argmax(labels[i])))\n",
    "    # 1차원 배열로 되어있는 i번째 이미지 데이터를\n",
    "    # 28x28 형식의 2차원 배열로 변형하여 이미지 형태로 출력\n",
    "    subplot.imshow(mnist.test.images[i].reshape((28, 28)), cmap=plt.cm.gray_r)\n",
    "\n",
    "plt.show()"
   ]
  },
  {
   "cell_type": "code",
   "execution_count": null,
   "metadata": {
    "collapsed": true
   },
   "outputs": [],
   "source": []
  }
 ],
 "metadata": {
  "kernelspec": {
   "display_name": "Python 3",
   "language": "python",
   "name": "python3"
  },
  "language_info": {
   "codemirror_mode": {
    "name": "ipython",
    "version": 3
   },
   "file_extension": ".py",
   "mimetype": "text/x-python",
   "name": "python",
   "nbconvert_exporter": "python",
   "pygments_lexer": "ipython3",
   "version": "3.5.3"
  }
 },
 "nbformat": 4,
 "nbformat_minor": 2
}
