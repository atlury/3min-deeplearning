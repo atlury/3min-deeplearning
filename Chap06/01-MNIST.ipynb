{
 "cells": [
  {
   "cell_type": "markdown",
   "metadata": {},
   "source": [
    "## Chap06-01. MNIST\n",
    "### MNIST(손글씨 숫자 인식) 문제를 신경망으로 풀어보기"
   ]
  },
  {
   "cell_type": "code",
   "execution_count": 1,
   "metadata": {
    "collapsed": true
   },
   "outputs": [],
   "source": [
    "import tensorflow as tf\n",
    "from tensorflow.examples.tutorials.mnist import input_data"
   ]
  },
  {
   "cell_type": "code",
   "execution_count": 2,
   "metadata": {},
   "outputs": [
    {
     "name": "stdout",
     "output_type": "stream",
     "text": [
      "Extracting ./mnist/data/train-images-idx3-ubyte.gz\n",
      "Extracting ./mnist/data/train-labels-idx1-ubyte.gz\n",
      "Extracting ./mnist/data/t10k-images-idx3-ubyte.gz\n",
      "Extracting ./mnist/data/t10k-labels-idx1-ubyte.gz\n"
     ]
    }
   ],
   "source": [
    "# 1. 데이터 로드\n",
    "#  - Tensorflow에 기본 내장된 mnist 모듈을 이용하여 데이터를 로드\n",
    "#  - 지정한 폴더에 MNIST 데이터가 없는 경우 자동으로 데이터를 다운로드함\n",
    "#  - one-hot 옵션은 Label을 one-hot vector로 만들어 줌\n",
    "mnist = input_data.read_data_sets(\"./mnist/data/\", one_hot=True)"
   ]
  },
  {
   "cell_type": "code",
   "execution_count": 3,
   "metadata": {
    "collapsed": true
   },
   "outputs": [],
   "source": [
    "# 2. 신경망 모델 구성\n",
    "\n",
    "# 입력값(input value)의 차원은 [배치크기, 특성값]으로 되어 있음\n",
    "# MNIST 이미지는 28x28 (=784) 픽셀로 이루어져 있고, 이를 784의 특성값으로 정함\n",
    "\n",
    "# 1) Input(X), Label(Y) 설정\n",
    "#   - Input(X): 784(28x28)을 Input value로 설정\n",
    "#   - Output(Y): [0~9] 즉, 10개의 class를 가짐\n",
    "#   - MiniBatch: Batch size는 None으로 설정\n",
    "X = tf.placeholder(tf.float32, [None, 784]) \n",
    "Y = tf.placeholder(tf.float32, [None, 10])\n",
    "\n",
    "\n",
    "# 2) 신경망 레이어(layer)구성\n",
    "# Input[Batch,784] -> Hidden(1)[256] -> Hidden(2)[256] -> Output[Batch, 10]\n",
    "# 1st layer\n",
    "W1 = tf.get_variable(name='W1', shape=[784, 256], \n",
    "                     initializer=tf.contrib.layers.xavier_initializer())\n",
    "L1 = tf.nn.relu(tf.matmul(X, W1))\n",
    "\n",
    "# 2nd layer\n",
    "W2 = tf.get_variable(name='W2', shape=[256, 256], \n",
    "                     initializer=tf.contrib.layers.xavier_initializer())\n",
    "L2 = tf.nn.relu(tf.matmul(L1, W2))\n",
    "\n",
    "# output layer\n",
    "W3 = tf.get_variable(name='W3', shape=[256, 10],\n",
    "                     initializer=tf.contrib.layers.xavier_initializer())\n",
    "model = tf.matmul(L2, W3)"
   ]
  },
  {
   "cell_type": "code",
   "execution_count": 4,
   "metadata": {
    "collapsed": true
   },
   "outputs": [],
   "source": [
    "# 3) 손실함수(Loss function) 설정\n",
    "cost = tf.losses.softmax_cross_entropy(logits=model, onehot_labels=Y)\n",
    "optimizer = tf.train.AdamOptimizer(0.001).minimize(cost)"
   ]
  },
  {
   "cell_type": "code",
   "execution_count": 5,
   "metadata": {},
   "outputs": [
    {
     "name": "stdout",
     "output_type": "stream",
     "text": [
      "Epoch: 0001 Avg. cost = 0.255\n",
      "Epoch: 0002 Avg. cost = 0.099\n",
      "Epoch: 0003 Avg. cost = 0.066\n",
      "Epoch: 0004 Avg. cost = 0.046\n",
      "Epoch: 0005 Avg. cost = 0.034\n",
      "Epoch: 0006 Avg. cost = 0.027\n",
      "Epoch: 0007 Avg. cost = 0.021\n",
      "Epoch: 0008 Avg. cost = 0.018\n",
      "Epoch: 0009 Avg. cost = 0.016\n",
      "Epoch: 0010 Avg. cost = 0.016\n",
      "Epoch: 0011 Avg. cost = 0.014\n",
      "Epoch: 0012 Avg. cost = 0.013\n",
      "Epoch: 0013 Avg. cost = 0.010\n",
      "Epoch: 0014 Avg. cost = 0.011\n",
      "Epoch: 0015 Avg. cost = 0.007\n",
      "최적화 완료!\n"
     ]
    }
   ],
   "source": [
    "# 3. 신경망 모델 학습\n",
    "\n",
    "# 1) 세션 초기화\n",
    "init = tf.global_variables_initializer()\n",
    "sess = tf.Session()\n",
    "sess.run(init)\n",
    "\n",
    "# 2) Batch size 설정\n",
    "batch_size = 100\n",
    "total_batch = int(mnist.train.num_examples / batch_size)\n",
    "\n",
    "# 3) 최적화 진행\n",
    "for epoch in range(15):\n",
    "    total_cost = 0\n",
    "    \n",
    "    for i in range(total_batch):\n",
    "        # Tensorflow의 Mnist 모델의 next_batch 함수를 이용해\n",
    "        # batch size 만큼 학습할 데이터를 가져옴\n",
    "        batch_xs, batch_ys = mnist.train.next_batch(batch_size)\n",
    "        \n",
    "        _, cost_val = sess.run([optimizer, cost], feed_dict={X: batch_xs, Y: batch_ys})\n",
    "        total_cost += cost_val\n",
    "        \n",
    "    print('Epoch: {:04d} Avg. cost = {:.3f}'.format((epoch + 1), (total_cost / total_batch)))\n",
    "    \n",
    "print(\"최적화 완료!\")"
   ]
  },
  {
   "cell_type": "code",
   "execution_count": 9,
   "metadata": {},
   "outputs": [
    {
     "name": "stdout",
     "output_type": "stream",
     "text": [
      "정확도: 0.9803\n"
     ]
    }
   ],
   "source": [
    "# 4. 결과 확인\n",
    "# Model로 예측한 값과 실제 레이블인 Y의 값을 비교\n",
    "# tf.argmax 함수를 이용해 예측한 값에서 가장 큰 값의 class로 분류\n",
    "# 예) [0.1 0 0 0.7 0 0.2 0 0 0 0] -> 3\n",
    "is_correct = tf.equal(tf.argmax(model, 1), tf.argmax(Y, 1))\n",
    "accuracy = tf.reduce_mean(tf.cast(is_correct, tf.float32))\n",
    "print(\"정확도:\", sess.run(accuracy, feed_dict={X: mnist.test.images,\n",
    "                                                Y: mnist.test.labels}))"
   ]
  }
 ],
 "metadata": {
  "kernelspec": {
   "display_name": "Python 3",
   "language": "python",
   "name": "python3"
  },
  "language_info": {
   "codemirror_mode": {
    "name": "ipython",
    "version": 3
   },
   "file_extension": ".py",
   "mimetype": "text/x-python",
   "name": "python",
   "nbconvert_exporter": "python",
   "pygments_lexer": "ipython3",
   "version": "3.5.4"
  }
 },
 "nbformat": 4,
 "nbformat_minor": 2
}
