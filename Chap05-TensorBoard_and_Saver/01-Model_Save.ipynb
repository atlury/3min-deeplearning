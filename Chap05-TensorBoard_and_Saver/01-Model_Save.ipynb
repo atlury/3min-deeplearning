{
 "cells": [
  {
   "cell_type": "markdown",
   "metadata": {},
   "source": [
    "## Chap05-1. Model Save\n",
    "### 모델을 저장하고 재사용하는 방법 익히기"
   ]
  },
  {
   "cell_type": "code",
   "execution_count": 5,
   "metadata": {
    "collapsed": true
   },
   "outputs": [],
   "source": [
    "import tensorflow as tf\n",
    "import numpy as np"
   ]
  },
  {
   "cell_type": "code",
   "execution_count": 6,
   "metadata": {
    "collapsed": true
   },
   "outputs": [],
   "source": [
    "# 1) 학습데이터 불러오기\n",
    "\n",
    "data = np.loadtxt('./data.csv', delimiter=',',\n",
    "                 unpack=True, dtype='float32', skiprows=0)\n",
    "\n",
    "# 털, 날개, 기타, 포유류, 조류\n",
    "#  - x_data = 0, 1 (털, 날개)\n",
    "#  - y_data = 2, 3, 4 (기타, 포유류, 조류)\n",
    "x_data = np.transpose(data[0:2])\n",
    "y_data = np.transpose(data[2:])"
   ]
  },
  {
   "cell_type": "code",
   "execution_count": 7,
   "metadata": {
    "collapsed": true
   },
   "outputs": [],
   "source": [
    "# 2) 신경망 모델 구성\n",
    "\n",
    "# glbal_step: 학습 횟수 카운트 변수 설정\n",
    "#  - 학습에 직접 사용되지 않고, 학습 횟수를 카운트하는 변수\n",
    "global_step = tf.Variable(0, trainable=False, name='global_step')\n",
    "\n",
    "# Input(X), Output(Y) 설정\n",
    "X = tf.placeholder(tf.float32)\n",
    "Y = tf.placeholder(tf.float32)\n",
    "\n",
    "# input -> hidden(1)[10] -> hidden(2)[20] -> output\n",
    "# Parameter 설정: W만 설정 b는 생략\n",
    "W1 = tf.Variable(tf.random_uniform([2, 10], -1., 1.))\n",
    "L1 = tf.nn.relu(tf.matmul(X, W1))\n",
    "\n",
    "W2 = tf.Variable(tf.random_uniform([10, 20], -1., 1.))\n",
    "L2 = tf.nn.relu(tf.matmul(L1, W2))\n",
    "\n",
    "W3 = tf.Variable(tf.random_uniform([20, 3], -1., 1.))\n",
    "model = tf.matmul(L2, W3)\n",
    "\n",
    "# Loss Function: Cross-Entropy\n",
    "cost = tf.losses.softmax_cross_entropy(onehot_labels=Y, logits=model)\n",
    "\n",
    "# Optimizer: Adam\n",
    "optimizer = tf.train.AdamOptimizer(learning_rate=0.01)\n",
    "\n",
    "# global_step으로 넘겨준 변수를, 파라미터(W1, W2, W3)들을 최적화 할 때 마다 학습 획수를 하나씩 증가\n",
    "train_op = optimizer.minimize(cost, global_step=global_step)"
   ]
  },
  {
   "cell_type": "code",
   "execution_count": 10,
   "metadata": {
    "scrolled": false
   },
   "outputs": [
    {
     "name": "stdout",
     "output_type": "stream",
     "text": [
      "INFO:tensorflow:Restoring parameters from ./model/dnn.ckpt-10\n",
      "Step: 11  Cost: 0.658\n",
      "Step: 12  Cost: 0.643\n",
      "Step: 13  Cost: 0.630\n",
      "Step: 14  Cost: 0.619\n",
      "Step: 15  Cost: 0.610\n",
      "Step: 16  Cost: 0.602\n",
      "Step: 17  Cost: 0.596\n",
      "Step: 18  Cost: 0.590\n",
      "Step: 19  Cost: 0.586\n",
      "Step: 20  Cost: 0.581\n"
     ]
    },
    {
     "data": {
      "text/plain": [
       "'./model/dnn.ckpt-20'"
      ]
     },
     "execution_count": 10,
     "metadata": {},
     "output_type": "execute_result"
    }
   ],
   "source": [
    "# 3) 신경망 모델 학습\n",
    "sess = tf.Session()\n",
    "\n",
    "# 모델을 저장하고 불러오는 API를 초기화\n",
    "#  - tf.global_variables() : 앞에서 정의한 변수들(tf.Variable) 가져오는 함수\n",
    "#                            이 변수들을 파일에 저장하거나 불러올 변수들로 사용함\n",
    "saver = tf.train.Saver(tf.global_variables())\n",
    "\n",
    "# ./model 디렉터리에 기존에 학습해둔 모델이 있는지 확인 후\n",
    "# - 모델이 있다면 saver.restore()를 사용해 학습된 값들을 불러오고,\n",
    "# - 모델이 없다면 변수를 새로 초기화함\n",
    "# - 학습된 모델을 저장한 파일을 체크포인트 파일(checkpoint file)이라고 함\n",
    "ckpt = tf.train.get_checkpoint_state('./model')\n",
    "if ckpt and tf.train.checkpoint_exists(ckpt.model_checkpoint_path):\n",
    "    saver.restore(sess, ckpt.model_checkpoint_path)\n",
    "else:\n",
    "    sess.run(tf.global_variables_initializer())\n",
    "    \n",
    "# 최적화 진행\n",
    "for step in range(10):\n",
    "    sess.run(train_op, feed_dict={X: x_data, Y: y_data})\n",
    "    \n",
    "    print('Step: {:d}  Cost: {:.3f}'.format(sess.run(global_step), \n",
    "                                           sess.run(cost, feed_dict={X: x_data, Y: y_data})))\n",
    "    \n",
    "# 최적화가 끝난 뒤, 변수를 저장\n",
    "saver.save(sess, './model/dnn.ckpt', global_step=global_step)"
   ]
  },
  {
   "cell_type": "code",
   "execution_count": 11,
   "metadata": {},
   "outputs": [
    {
     "name": "stdout",
     "output_type": "stream",
     "text": [
      "예측값: [0 1 2 0 0 2]\n",
      "실제값: [0 1 2 0 0 2]\n",
      "정확도: 100.00\n"
     ]
    }
   ],
   "source": [
    "# 4) 결과 확인\n",
    "#  - 0:기타, 1: 포유류, 2: 조류\n",
    "\n",
    "prediction = tf.argmax(model, 1)\n",
    "target = tf.argmax(Y, 1)\n",
    "print('예측값:', sess.run(prediction, feed_dict={X: x_data}))\n",
    "print('실제값:', sess.run(target, feed_dict={Y: y_data}))\n",
    "\n",
    "is_correct = tf.equal(prediction, target)\n",
    "accuracy = tf.reduce_mean(tf.cast(is_correct, tf.float32))\n",
    "print('정확도: %.2f' % sess.run(accuracy * 100, feed_dict={X: x_data, Y: y_data}))"
   ]
  },
  {
   "cell_type": "code",
   "execution_count": null,
   "metadata": {
    "collapsed": true
   },
   "outputs": [],
   "source": []
  },
  {
   "cell_type": "code",
   "execution_count": null,
   "metadata": {
    "collapsed": true
   },
   "outputs": [],
   "source": []
  }
 ],
 "metadata": {
  "kernelspec": {
   "display_name": "Python 3",
   "language": "python",
   "name": "python3"
  },
  "language_info": {
   "codemirror_mode": {
    "name": "ipython",
    "version": 3
   },
   "file_extension": ".py",
   "mimetype": "text/x-python",
   "name": "python",
   "nbconvert_exporter": "python",
   "pygments_lexer": "ipython3",
   "version": "3.5.4"
  }
 },
 "nbformat": 4,
 "nbformat_minor": 2
}
