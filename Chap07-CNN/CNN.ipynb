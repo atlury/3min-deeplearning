{
 "cells": [
  {
   "cell_type": "markdown",
   "metadata": {},
   "source": [
    "# Chap07.\n",
    "## CNN, Convolutional Neural Network\n",
    "### 이미지 처리 분야에서 가장 유명한 신경망 모델인 CNN을 이용하여 더 높은 인식률을 만들어 봄"
   ]
  },
  {
   "cell_type": "code",
   "execution_count": 2,
   "metadata": {},
   "outputs": [],
   "source": [
    "import tensorflow as tf \n",
    "\n",
    "from tensorflow.examples.tutorials.mnist import input_data"
   ]
  },
  {
   "cell_type": "code",
   "execution_count": 3,
   "metadata": {},
   "outputs": [
    {
     "name": "stdout",
     "output_type": "stream",
     "text": [
      "Extracting ./mnist/data/train-images-idx3-ubyte.gz\n",
      "Extracting ./mnist/data/train-labels-idx1-ubyte.gz\n",
      "Extracting ./mnist/data/t10k-images-idx3-ubyte.gz\n",
      "Extracting ./mnist/data/t10k-labels-idx1-ubyte.gz\n"
     ]
    }
   ],
   "source": [
    "# 1. 데이터 로드\n",
    "#  - Tensorflow에 기본 내장된 mnist 모듈을 이용하여 데이터를 로드\n",
    "#  - 지정한 폴더에 MNIST 데이터가 없는 경우 자동으로 데이터를 다운로드함\n",
    "#  - one-hot 옵션은 Label을 one-hot vector로 만들어 줌\n",
    "mnist = input_data.read_data_sets(\"./mnist/data/\", one_hot=True)"
   ]
  },
  {
   "cell_type": "code",
   "execution_count": 3,
   "metadata": {},
   "outputs": [
    {
     "name": "stdout",
     "output_type": "stream",
     "text": [
      "W1의 구조: <tf.Variable 'W1:0' shape=(3, 3, 1, 32) dtype=float32_ref>\n",
      "L1(conv)의 구조: Tensor(\"Conv2D:0\", shape=(?, 28, 28, 32), dtype=float32)\n",
      "L1(pooling)의 구조: Tensor(\"MaxPool:0\", shape=(?, 14, 14, 32), dtype=float32)\n"
     ]
    }
   ],
   "source": [
    "# 2. 신경망 모델 구성\n",
    "#  - 기존 모델에서는 입력값을 28x28(784)하나의 차원으로 구성하였으나,\n",
    "#  - CNN 모델을 사용하기 위해 2차원 평면과 특성치의 형태를 갖는 구조로 만듦\n",
    "#  Input -> Conv 1st layer -> Conv 2nd layer -> FC -> Output\n",
    "\n",
    "# 1) Input(X), Label(Y) 설정\n",
    "#   - X: \n",
    "#       > 첫번째 차원인 None은 Batch size\n",
    "#       > 마지막 차원인 채널은 특징의 개수로, MNIST 데이터는 회색조 이미지이기 때문에,\n",
    "#         채널에 색상이 1개이므로 1을 사용\n",
    "# \n",
    "#   - keep_prob:\n",
    "#       > Dropout을 위한 placeholder\n",
    "\n",
    "X = tf.placeholder(tf.float32, [None, 28, 28, 1])\n",
    "Y = tf.placeholder(tf.float32, [None, 10])\n",
    "keep_prob = tf.placeholder(tf.float32)\n",
    "\n",
    "# 2) CNN 레이어 구성\n",
    "\n",
    "# 1st layer - Conv Layer\n",
    "#  - W1: [3, 3, 1, 32] -> [3, 3]: 커널(필터) 크기, 1: X의 특성수, 32: 커널(필터) 개수\n",
    "#  - Conv의 shape=(?, 28, 28, 32) -> ?: batch, [28, 28]: Map size, 32: 커널 개수\n",
    "#  - pool의 shape=(?, 14, 14, 32) -> ?: batch, [14, 14]: Map size, 32: 커널 개수\n",
    "# tf.name_scope()를 이용해 텐서보드에서 한 계층 내부를 표현해줌\n",
    "\n",
    "W1 = tf.get_variable(name='W1', shape=[3, 3, 1, 32], \n",
    "                    initializer=tf.contrib.layers.xavier_initializer_conv2d())\n",
    "\n",
    "print('W1의 구조: {}'.format(W1))\n",
    "\n",
    "# tf.nn.conv2d를 이용해 Stride=1인 컨볼루션 레이어를 쉽게 만들 수 있음\n",
    "# padding='SAME'으로 padding 사용 설정 \n",
    "# https://www.tensorflow.org/api_docs/python/tf/nn/conv2d 참고\n",
    "L1 = tf.nn.conv2d(X, W1, strides=[1, 1, 1, 1], padding='SAME')\n",
    "print('L1(conv)의 구조: {}'.format(L1))\n",
    "L1 = tf.nn.relu(L1)\n",
    "\n",
    "# Pooling 또한 tf.nn.max_pool(최대 풀링)을 이용하여 쉽게 구성할 수 있음\n",
    "# https://www.tensorflow.org/api_docs/python/tf/nn/max_pool 참고\n",
    "L1 = tf.nn.max_pool(L1, ksize=[1, 2, 2, 1], strides=[1, 2, 2, 1], padding='SAME')\n",
    "print('L1(pooling)의 구조: {}'.format(L1))\n",
    "# L1 = tf.nn.dropout(L1, keep_prob)"
   ]
  },
  {
   "cell_type": "code",
   "execution_count": 4,
   "metadata": {},
   "outputs": [
    {
     "name": "stdout",
     "output_type": "stream",
     "text": [
      "L2(pooling)의 구조: Tensor(\"MaxPool_1:0\", shape=(?, 7, 7, 64), dtype=float32)\n"
     ]
    }
   ],
   "source": [
    "# 2nd layer - Conv Layer\n",
    "# L2 Conv shape = (?, 14, 14, 64)\n",
    "# W2의 [3, 3, 32, 64]에서 32는 L1 에서 출력된 W1의 마지막 차원 즉, 커널의 개수, \n",
    "\n",
    "W2 = tf.get_variable(name='W2', shape=[3, 3, 32, 64], initializer=tf.contrib.layers.xavier_initializer_conv2d())\n",
    "L2 = tf.nn.conv2d(L1, W2, strides=[1, 1, 1, 1], padding='SAME')\n",
    "L2 = tf.nn.relu(L2)\n",
    "L2 = tf.nn.max_pool(L2, ksize=[1, 2, 2, 1], strides=[1, 2, 2, 1], padding='SAME')\n",
    "print('L2(pooling)의 구조: {}'.format(L2))\n",
    "# L2 = tf.nn.dropout(L2, keep_prob)"
   ]
  },
  {
   "cell_type": "code",
   "execution_count": 5,
   "metadata": {},
   "outputs": [],
   "source": [
    "# 3rd layer - FC(Fully Connected) layer\n",
    "# 10개의 분류를 만들어내는 계층을 구성\n",
    "# 10개의 분류는 1차원 배열이므로 차원을 줄이는 단계를 거쳐야함\n",
    "# Full Connect를 위해 L2의 pooling의 사이즈인 (?, 7, 7, 64)를 참고하여 차원을 줄여줌\n",
    "# tf.reshape()를 이용해 7x7x64 크기의 1차원으로 만들어줌\n",
    "W3 = tf.get_variable(name='W3', shape=[7*7*64, 256], initializer=tf.contrib.layers.xavier_initializer())\n",
    "L3 = tf.reshape(L2, [-1, 7*7*64])\n",
    "L3 = tf.matmul(L3, W3)\n",
    "L3 = tf.nn.relu(L3)\n",
    "# L3 = tf.nn.dropout(L3, keep_prob=keep_prob)"
   ]
  },
  {
   "cell_type": "code",
   "execution_count": 6,
   "metadata": {},
   "outputs": [],
   "source": [
    "# 4th layer\n",
    "# L3에서의 출력값 256개를 입력값으로 받아 0~9 레이블은 10개의 출력값을 만듦\n",
    "W4 = tf.get_variable(name='W4', shape=[256, 10], initializer=tf.contrib.layers.xavier_initializer())\n",
    "model = tf.matmul(L3, W4)"
   ]
  },
  {
   "cell_type": "code",
   "execution_count": 8,
   "metadata": {},
   "outputs": [],
   "source": [
    "# 3) 손실함수 설정\n",
    "\n",
    "cost = tf.losses.softmax_cross_entropy(logits=model, onehot_labels=Y)\n",
    "optimizer = tf.train.AdamOptimizer(learning_rate=0.001).minimize(cost)"
   ]
  },
  {
   "cell_type": "code",
   "execution_count": 16,
   "metadata": {},
   "outputs": [
    {
     "name": "stdout",
     "output_type": "stream",
     "text": [
      "Epoch: 0001 Avg. cost= 0.168\n",
      "Epoch: 0002 Avg. cost= 0.047\n",
      "Epoch: 0003 Avg. cost= 0.034\n",
      "Epoch: 0004 Avg. cost= 0.025\n",
      "Epoch: 0005 Avg. cost= 0.017\n",
      "최적화 완료!\n"
     ]
    }
   ],
   "source": [
    "# 3. CNN 모델 학습\n",
    "\n",
    "# 1) 세션 초기화\n",
    "init = tf.global_variables_initializer()\n",
    "sess = tf.Session()\n",
    "sess.run(init)\n",
    "\n",
    "# 2) Batch size 설정\n",
    "batch_size = 100\n",
    "total_batch = int(mnist.train.num_examples / batch_size)\n",
    "\n",
    "# 3) 최적화 진행\n",
    "for epoch in range(5):\n",
    "    total_cost = 0\n",
    "    \n",
    "    for i in range(total_batch):\n",
    "        batch_xs, batch_ys = mnist.train.next_batch(batch_size)\n",
    "        # 이미지 데이터를 CNN 모델을 위한 자료형태인 [28, 28, 1]의 형태로 재구성함\n",
    "        batch_xs = batch_xs.reshape([-1, 28, 28, 1])\n",
    "        \n",
    "        _, cost_val = sess.run([optimizer, cost], feed_dict={X: batch_xs, Y: batch_ys, keep_prob: 0.7})\n",
    "        \n",
    "        total_cost += cost_val\n",
    "        \n",
    "    print('Epoch:', '%04d' % (epoch + 1),\n",
    "         'Avg. cost= {:.3f}'.format(total_cost / total_batch))\n",
    "\n",
    "print('최적화 완료!')"
   ]
  },
  {
   "cell_type": "code",
   "execution_count": 24,
   "metadata": {},
   "outputs": [
    {
     "name": "stdout",
     "output_type": "stream",
     "text": [
      "정확도: 0.9909\n"
     ]
    }
   ],
   "source": [
    "# 4. 결과 확인\n",
    "is_correct = tf.equal(tf.argmax(model, 1), tf.argmax(Y, 1))\n",
    "accuracy = tf.reduce_mean(tf.cast(is_correct, tf.float32))\n",
    "print('정확도:', sess.run(accuracy, feed_dict={X: mnist.test.images.reshape(-1, 28, 28, 1), Y: mnist.test.labels, keep_prob: 1}))"
   ]
  },
  {
   "cell_type": "markdown",
   "metadata": {},
   "source": [
    "## 필터 시각화하기"
   ]
  },
  {
   "cell_type": "code",
   "execution_count": 25,
   "metadata": {},
   "outputs": [],
   "source": [
    "import numpy as np\n",
    "import matplotlib.pyplot as plt"
   ]
  },
  {
   "cell_type": "code",
   "execution_count": 31,
   "metadata": {},
   "outputs": [],
   "source": [
    "def filter_show(filters, nx=8, margin=3, scale=10):\n",
    "    \"\"\"\n",
    "    c.f. https://gist.github.com/aidiary/07d530d5e08011832b12#file-draw_weight-py\n",
    "    \"\"\"\n",
    "    FN, C, FH, FW = filters.shape\n",
    "    print(FH, FW, C, FN)\n",
    "    ny = int(np.ceil(FN / nx))\n",
    "\n",
    "    fig = plt.figure()\n",
    "    fig.subplots_adjust(left=0, right=1, bottom=0, top=1, hspace=0.05, wspace=0.05)\n",
    "\n",
    "    for i in range(FN):\n",
    "        ax = fig.add_subplot(ny, nx, i+1, xticks=[], yticks=[])\n",
    "        ax.imshow(filters[i, 0], cmap=plt.cm.gray_r, interpolation='nearest')\n",
    "    plt.show()"
   ]
  },
  {
   "cell_type": "code",
   "execution_count": 32,
   "metadata": {},
   "outputs": [
    {
     "name": "stdout",
     "output_type": "stream",
     "text": [
      "W1의 구조: <tf.Variable 'W1:0' shape=(3, 3, 1, 32) dtype=float32_ref>\n"
     ]
    }
   ],
   "source": [
    "print('W1의 구조: {}'.format(W1))"
   ]
  },
  {
   "cell_type": "code",
   "execution_count": 39,
   "metadata": {},
   "outputs": [
    {
     "name": "stdout",
     "output_type": "stream",
     "text": [
      "32 1 3 3\n"
     ]
    },
    {
     "data": {
      "image/png": "[encoded data removed]",
      "text/plain": [
       "<matplotlib.figure.Figure at 0x21701163fd0>"
      ]
     },
     "metadata": {},
     "output_type": "display_data"
    }
   ],
   "source": [
    "kernel = sess.run(W1)\n",
    "filter_show(kernel.transpose(3,2,0,1))"
   ]
  },
  {
   "cell_type": "code",
   "execution_count": 9,
   "metadata": {},
   "outputs": [],
   "source": [
    "batch_xs, batch_ys = mnist.train.next_batch(100)\n",
    "        # 이미지 데이터를 CNN 모델을 위한 자료형태인 [28, 28, 1]의 형태로 재구성함\n",
    "batch_xs = batch_xs.reshape([-1,28, 28, 1])"
   ]
  },
  {
   "cell_type": "code",
   "execution_count": 8,
   "metadata": {},
   "outputs": [
    {
     "data": {
      "text/plain": [
       "(100, 784)"
      ]
     },
     "execution_count": 8,
     "metadata": {},
     "output_type": "execute_result"
    }
   ],
   "source": [
    "batch_xs.shape"
   ]
  },
  {
   "cell_type": "code",
   "execution_count": null,
   "metadata": {},
   "outputs": [],
   "source": []
  }
 ],
 "metadata": {
  "kernelspec": {
   "display_name": "Python 3",
   "language": "python",
   "name": "python3"
  },
  "language_info": {
   "codemirror_mode": {
    "name": "ipython",
    "version": 3
   },
   "file_extension": ".py",
   "mimetype": "text/x-python",
   "name": "python",
   "nbconvert_exporter": "python",
   "pygments_lexer": "ipython3",
   "version": "3.5.4"
  }
 },
 "nbformat": 4,
 "nbformat_minor": 2
}
