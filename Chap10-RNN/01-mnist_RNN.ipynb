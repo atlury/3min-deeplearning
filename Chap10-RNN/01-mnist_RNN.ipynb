{
 "cells": [
  {
   "cell_type": "markdown",
   "metadata": {},
   "source": [
    "## RNN - MNIST"
   ]
  },
  {
   "cell_type": "code",
   "execution_count": 4,
   "metadata": {},
   "outputs": [
    {
     "name": "stdout",
     "output_type": "stream",
     "text": [
      "Extracting ../data/mnist/data/train-images-idx3-ubyte.gz\n",
      "Extracting ../data/mnist/data/train-labels-idx1-ubyte.gz\n",
      "Extracting ../data/mnist/data/t10k-images-idx3-ubyte.gz\n",
      "Extracting ../data/mnist/data/t10k-labels-idx1-ubyte.gz\n"
     ]
    }
   ],
   "source": [
    "import tensorflow as tf\n",
    "from tensorflow.examples.tutorials.mnist import input_data\n",
    "\n",
    "mnist = input_data.read_data_sets('../data/mnist/data/', one_hot=True)"
   ]
  },
  {
   "cell_type": "code",
   "execution_count": 26,
   "metadata": {},
   "outputs": [],
   "source": [
    "tf.reset_default_graph()\n",
    "\n",
    "####################\n",
    "# Hyper Parameters #\n",
    "####################\n",
    "learning_rate = 0.001\n",
    "total_epoch = 5\n",
    "batch_size = 128\n",
    "\n",
    "# RNN은 Sequential data를 다루는 모델이므로,\n",
    "# 한 번에 입력받는 개수와 총 몇 단계(time_step)로 이루어져 있는 데이터를 받을지 설정해야한다.\n",
    "# MNIST에서는 가로 픽셀수(28)를 n_input으로, 세로 픽셀수를 입력 단계(time_step)인 n_step으로 설정해준다.\n",
    "n_input = 28\n",
    "n_step = 28\n",
    "n_hidden =128\n",
    "n_class = 10\n",
    "\n",
    "\n",
    "################\n",
    "# RNN 모델 구성 #\n",
    "###############\n",
    "inputs = tf.placeholder(tf.float32, [None, n_step, n_input])\n",
    "labels = tf.placeholder(tf.float32, [None, n_class])\n",
    "\n",
    "weights = tf.Variable(tf.truncated_normal([n_hidden, n_class], stddev=0.1))\n",
    "bias = tf.Variable(tf.truncated_normal([n_class]))\n",
    "\n",
    "# RNN의 학습에 사용할 Cell을 생성\n",
    "cell = tf.nn.rnn_cell.BasicRNNCell(n_hidden)\n",
    "\n",
    "# RNN 생헝\n",
    "outputs, states = tf.nn.dynamic_rnn(cell, inputs, dtype=tf.float32)\n",
    "outputs = outputs[:, -1, :]\n",
    "logits = tf.matmul(outputs, weights) + bias\n",
    "\n",
    "# loss & optimizer\n",
    "cross_entropy = tf.reduce_mean(\n",
    "        tf.nn.softmax_cross_entropy_with_logits_v2(logits=logits, labels=labels))\n",
    "train_op = tf.train.AdamOptimizer(learning_rate).minimize(cross_entropy)\n",
    "\n",
    "# accuracy\n",
    "correct_mask = tf.equal(tf.argmax(logits, 1), tf.argmax(labels, 1))\n",
    "accuracy = tf.reduce_mean(tf.cast(correct_mask, tf.float32))"
   ]
  },
  {
   "cell_type": "code",
   "execution_count": 27,
   "metadata": {},
   "outputs": [
    {
     "name": "stdout",
     "output_type": "stream",
     "text": [
      "Epoch: 0001 Avg. cost = 0.63861 Train Acc = 0.90767\n",
      "Epoch: 0002 Avg. cost = 0.25816 Train Acc = 0.93642\n",
      "Epoch: 0003 Avg. cost = 0.18625 Train Acc = 0.95765\n",
      "Epoch: 0004 Avg. cost = 0.15008 Train Acc = 0.96253\n",
      "Epoch: 0005 Avg. cost = 0.13548 Train Acc = 0.96704\n",
      "최적화 완료!\n",
      "Test Acc = 0.96620\n"
     ]
    }
   ],
   "source": [
    "################\n",
    "# RNN 모델 학습 #\n",
    "################\n",
    "with tf.Session() as sess:\n",
    "    sess.run(tf.global_variables_initializer())\n",
    "    \n",
    "    total_batch = int(mnist.train.num_examples/batch_size)\n",
    "    \n",
    "    for epoch in range(1, total_epoch+1):\n",
    "        total_cost = 0\n",
    "        \n",
    "        for step in range(1, total_batch+1):\n",
    "            batch_x, batch_y = mnist.train.next_batch(batch_size)\n",
    "            # input shape에 맞게 reshape 해준다.\n",
    "            batch_x = batch_x.reshape([batch_size, n_step, n_input])\n",
    "            \n",
    "            loss, _ = sess.run([cross_entropy, train_op],\n",
    "                               feed_dict={inputs: batch_x, labels: batch_y})\n",
    "            total_cost += loss\n",
    "            \n",
    "        train_x, train_y = mnist.train.images, mnist.train.labels\n",
    "        train_x = train_x.reshape([-1, n_step, n_input])\n",
    "        train_acc = sess.run(accuracy, feed_dict={inputs: train_x, labels: train_y})\n",
    "        print('Epoch: {:04d}'.format(epoch),\n",
    "              'Avg. cost = {:.5f}'.format(total_cost/total_batch),\n",
    "              'Train Acc = {:.5f}'.format(train_acc))\n",
    "        \n",
    "    print('최적화 완료!')\n",
    "    \n",
    "    # Test\n",
    "    test_x = mnist.test.images.reshape([-1, n_step, n_input])\n",
    "    test_y = mnist.test.labels\n",
    "    \n",
    "    test_acc = sess.run(accuracy, feed_dict={inputs: test_x, \n",
    "                                             labels: test_y})\n",
    "      \n",
    "\n",
    "print('Test Acc = {:.5f}'.format(test_acc))"
   ]
  },
  {
   "cell_type": "code",
   "execution_count": null,
   "metadata": {},
   "outputs": [],
   "source": []
  }
 ],
 "metadata": {
  "kernelspec": {
   "display_name": "tensorflow",
   "language": "python",
   "name": "tensorflow"
  },
  "language_info": {
   "codemirror_mode": {
    "name": "ipython",
    "version": 3
   },
   "file_extension": ".py",
   "mimetype": "text/x-python",
   "name": "python",
   "nbconvert_exporter": "python",
   "pygments_lexer": "ipython3",
   "version": "3.6.5"
  }
 },
 "nbformat": 4,
 "nbformat_minor": 2
}
