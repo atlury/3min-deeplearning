{
 "cells": [
  {
   "cell_type": "markdown",
   "metadata": {},
   "source": [
    "## Chap04-2. Deep NN\n",
    "### 털과 날개가 있는지 없는지에 따라, 포유류인지 조류인지 분류하는 신경망 모델 구현\n",
    "### 신경망 레이어를 여러개로 구성하여 딥러능 구현"
   ]
  },
  {
   "cell_type": "code",
   "execution_count": 1,
   "metadata": {
    "collapsed": true
   },
   "outputs": [],
   "source": [
    "import tensorflow as tf\n",
    "import numpy as np"
   ]
  },
  {
   "cell_type": "code",
   "execution_count": 2,
   "metadata": {
    "collapsed": true
   },
   "outputs": [],
   "source": [
    "# 1) 학습 데이터 정의\n",
    "\n",
    "# [털, 날개]\n",
    "x_data = np.array([[0, 0], [1, 0], [1, 1], [0, 0], [0, 0], [0, 1]])\n",
    "\n",
    "# x_data에 해당하는 labeling 작업\n",
    "# [기타, 포유류, 조류] one-hot encoding 방식으로 입력\n",
    "y_data = np.array([\n",
    "    [1, 0, 0], # 기타\n",
    "    [0, 1, 0], # 포유류\n",
    "    [0, 0, 1], # 조류\n",
    "    [1, 0, 0],\n",
    "    [1, 0, 0],\n",
    "    [0, 0, 1]\n",
    "])"
   ]
  },
  {
   "cell_type": "code",
   "execution_count": 13,
   "metadata": {
    "collapsed": true
   },
   "outputs": [],
   "source": [
    "# 2) 신경망 모델 구성\n",
    "# Hidden layer의 Unit 수를 10개로 설정\n",
    "\n",
    "# Input(X), Output(Y) 설정\n",
    "X = tf.placeholder(tf.float32)\n",
    "Y = tf.placeholder(tf.float32)\n",
    "\n",
    "# input layer --> hidden layer 의 Parameter(W1, b1) 설정\n",
    "#  - W: [입력층(input) 뉴런 수, 은닉층 뉴런 수(hidden layer unit))] -->> [2, 10]으로 설정 \n",
    "#  - b: 편향(bias)은 hidden layer의 출력 개수로 설정 [10]\n",
    "W1 = tf.Variable(tf.random_uniform([2, 10], -1., 1.))\n",
    "b1 = tf.Variable(tf.zeros([10]))\n",
    "\n",
    "# hidden layer --> ouput layer 의 Parameter(W2, b2) 설정\n",
    "#  - W: [은닉층 뉴런 수, 출력층 뉴런 수] -->> [10, 3]\n",
    "#  - b: 편향(bias)은 ouput layer의 출력 개수로 설정 [3]\n",
    "W2 = tf.Variable(tf.random_uniform([10, 3], -1., 1.))\n",
    "b2 = tf.Variable(tf.zeros([3]))\n",
    "\n",
    "# 신경망의 Hidden layer에서 가중치 W1와 편향 b1를 적용\n",
    "# XW + b 한 값에 ReLU 활성화 함수 적용\n",
    "L1 = tf.add(tf.matmul(X, W1), b1)\n",
    "L1 = tf.nn.relu(L1)\n",
    "\n",
    "# Output을 계산\n",
    "#  - Hidden layer의 두번째 가중치 W2와 편향 b2를 적용\n",
    "model = tf.add(tf.matmul(L1, W2), b2)\n",
    "\n",
    "# 손실함수(Loss function): Cross-Entropy를 이용\n",
    "#  - https://www.tensorflow.org/api_docs/python/tf/losses/softmax_cross_entropy\n",
    "#  - tf.losses.softmax_cross_entropy를 이용\n",
    "# cost = tf.reduce_mean(tf.nn.softmax_cross_entropy_with_logits(labels=Y, logits=model))\n",
    "cost = tf.losses.softmax_cross_entropy(onehot_labels=Y, logits=model)\n",
    "\n",
    "# 최적화 함수 설정: Adam을 사용\n",
    "optimizer = tf.train.AdamOptimizer(learning_rate=0.01)\n",
    "train_op = optimizer.minimize(cost)"
   ]
  },
  {
   "cell_type": "code",
   "execution_count": 14,
   "metadata": {},
   "outputs": [
    {
     "name": "stdout",
     "output_type": "stream",
     "text": [
      "10 0.823992\n",
      "20 0.63941\n",
      "30 0.496998\n",
      "40 0.382711\n",
      "50 0.291372\n",
      "60 0.219118\n",
      "70 0.16395\n",
      "80 0.122704\n",
      "90 0.0923712\n",
      "100 0.0706638\n"
     ]
    }
   ],
   "source": [
    "# 3) 신경망 모델 학습\n",
    "\n",
    "# Tensorflow 세션 초기화\n",
    "init = tf.global_variables_initializer()\n",
    "sess = tf.Session()\n",
    "sess.run(init)\n",
    "\n",
    "# 최적화\n",
    "for step in range(100):\n",
    "    sess.run(train_op, feed_dict={X: x_data, Y: y_data})\n",
    "    \n",
    "    if(step + 1) % 10 == 0:\n",
    "        print(step + 1, sess.run(cost, feed_dict={X: x_data, Y: y_data}))"
   ]
  },
  {
   "cell_type": "code",
   "execution_count": 15,
   "metadata": {},
   "outputs": [
    {
     "name": "stdout",
     "output_type": "stream",
     "text": [
      "예측값:  [0 1 2 0 0 2]\n",
      "실제값:  [0 1 2 0 0 2]\n",
      "정확도: 100.00\n"
     ]
    }
   ],
   "source": [
    "# 4) 결과 확인\n",
    "# 학습데이터가 적어 정확도는 매 실행마다 다르게 나옴\n",
    "\n",
    "# tf.argmax를 이용해 예측한 결과 중 가장 큰 값을 가져옴\n",
    "prediction = tf.argmax(model, 1)\n",
    "target = tf.argmax(Y, 1)\n",
    "print('예측값: ', sess.run(prediction, feed_dict={X: x_data}))\n",
    "print('실제값: ', sess.run(target, feed_dict={Y: y_data}))\n",
    "\n",
    "is_correct = tf.equal(prediction, target)\n",
    "accuracy = tf.reduce_mean(tf.cast(is_correct, tf.float32))\n",
    "print('정확도: {:.2f}'.format(sess.run(accuracy * 100, feed_dict={X: x_data, Y:y_data})))"
   ]
  },
  {
   "cell_type": "code",
   "execution_count": null,
   "metadata": {
    "collapsed": true
   },
   "outputs": [],
   "source": []
  }
 ],
 "metadata": {
  "kernelspec": {
   "display_name": "Python 3",
   "language": "python",
   "name": "python3"
  },
  "language_info": {
   "codemirror_mode": {
    "name": "ipython",
    "version": 3
   },
   "file_extension": ".py",
   "mimetype": "text/x-python",
   "name": "python",
   "nbconvert_exporter": "python",
   "pygments_lexer": "ipython3",
   "version": "3.5.4"
  }
 },
 "nbformat": 4,
 "nbformat_minor": 2
}
