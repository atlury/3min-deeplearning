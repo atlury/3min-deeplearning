{
 "cells": [
  {
   "cell_type": "markdown",
   "metadata": {},
   "source": [
    "## Chap04-1. Simple Classification\n",
    "### 털과 날개가 있는지 없는지에 따라, 포유류인지 조류인지 분류하는 신경망 모델 구현"
   ]
  },
  {
   "cell_type": "code",
   "execution_count": 2,
   "metadata": {
    "collapsed": true
   },
   "outputs": [],
   "source": [
    "import tensorflow as tf\n",
    "import numpy as np"
   ]
  },
  {
   "cell_type": "code",
   "execution_count": 3,
   "metadata": {
    "collapsed": true
   },
   "outputs": [],
   "source": [
    "# 1) 학습 데이터 정의\n",
    "\n",
    "# [털, 날개]\n",
    "x_data = np.array([[0, 0], [1, 0], [1, 1], [0, 0], [0, 0], [0, 1]])\n",
    "\n",
    "# x_data에 해당하는 labeling 작업\n",
    "# [기타, 포유류, 조류] one-hot encoding 방식으로 입력\n",
    "y_data = np.array([\n",
    "    [1, 0, 0], # 기타\n",
    "    [0, 1, 0], # 포유류\n",
    "    [0, 0, 1], # 조류\n",
    "    [1, 0, 0],\n",
    "    [1, 0, 0],\n",
    "    [0, 0, 1]\n",
    "])"
   ]
  },
  {
   "cell_type": "code",
   "execution_count": 7,
   "metadata": {},
   "outputs": [],
   "source": [
    "# 2) 신경망 모델 구성\n",
    "\n",
    "# Input(X), Output(Y) 설정\n",
    "X = tf.placeholder(tf.float32)\n",
    "Y = tf.placeholder(tf.float32)\n",
    "\n",
    "# Parameter(W, b) 설정\n",
    "#  - W: [입력층(input), 출력층(output)] -->> [2, 3]으로 설정 \n",
    "#  - b: 편향(bias)은 ouput의 개수로 설정 \n",
    "W = tf.Variable(tf.random_uniform([2, 3], -1., 1.))\n",
    "b = tf.Variable(tf.zeros([3]))\n",
    "\n",
    "# 신경망에 가중치 W와 편향 b를 적용\n",
    "L = tf.add(tf.matmul(X, W), b)\n",
    "\n",
    "# XW + b 한 값에 ReLU 활성화 함수 적용\n",
    "L = tf.nn.relu(L)\n",
    "\n",
    "# 분류 문제이므로 ReLU의 출력값에 Softmax를 적용\n",
    "# model = tf.nn.softmax(L)\n",
    "model = L\n",
    "\n",
    "# 손실함수(Loss function): Cross-Entropy를 이용\n",
    "#  - https://www.tensorflow.org/api_docs/python/tf/losses/softmax_cross_entropy\n",
    "#  - tf.losses.softmax_cross_entropy를 이용\n",
    "# cost = tf.reduce_mean(-tf.reduce_sum(Y * tf.log(model), axis=1))\n",
    "cost = tf.losses.softmax_cross_entropy(onehot_labels=Y, logits=model)\n",
    "\n",
    "# 최적화 함수 설정: GradientDescent 사용\n",
    "optimizer = tf.train.GradientDescentOptimizer(learning_rate=0.01)\n",
    "train_op = optimizer.minimize(cost)"
   ]
  },
  {
   "cell_type": "code",
   "execution_count": 22,
   "metadata": {},
   "outputs": [
    {
     "name": "stdout",
     "output_type": "stream",
     "text": [
      "10 1.09164\n",
      "20 1.08892\n",
      "30 1.08628\n",
      "40 1.08372\n",
      "50 1.08176\n",
      "60 1.08098\n",
      "70 1.08022\n",
      "80 1.07945\n",
      "90 1.0787\n",
      "100 1.07796\n"
     ]
    }
   ],
   "source": [
    "# 3) 신경망 모델 학습\n",
    "\n",
    "# Tensorflow 세션 초기화\n",
    "init = tf.global_variables_initializer()\n",
    "sess = tf.Session()\n",
    "sess.run(init)\n",
    "\n",
    "# \n",
    "for step in range(100):\n",
    "    sess.run(train_op, feed_dict={X: x_data, Y: y_data})\n",
    "    \n",
    "    if(step + 1) % 10 == 0:\n",
    "        print(step + 1, sess.run(cost, feed_dict={X: x_data, Y: y_data}))"
   ]
  },
  {
   "cell_type": "code",
   "execution_count": 23,
   "metadata": {},
   "outputs": [
    {
     "name": "stdout",
     "output_type": "stream",
     "text": [
      "예측값:  [0 1 1 0 0 0]\n",
      "실제값:  [0 1 2 0 0 2]\n",
      "정확도: 66.67\n"
     ]
    }
   ],
   "source": [
    "# 4) 결과 확인\n",
    "# 학습데이터가 적어 정확도는 매 실행마다 다르게 나옴\n",
    "\n",
    "# tf.argmax를 이용해 예측한 결과 중 가장 큰 값을 가져옴\n",
    "prediction = tf.argmax(model, 1)\n",
    "target = tf.argmax(Y, 1)\n",
    "print('예측값: ', sess.run(prediction, feed_dict={X: x_data}))\n",
    "print('실제값: ', sess.run(target, feed_dict={Y: y_data}))\n",
    "\n",
    "is_correct = tf.equal(prediction, target)\n",
    "accuracy = tf.reduce_mean(tf.cast(is_correct, tf.float32))\n",
    "print('정확도: {:.2f}'.format(sess.run(accuracy * 100, feed_dict={X: x_data, Y:y_data})))"
   ]
  },
  {
   "cell_type": "code",
   "execution_count": null,
   "metadata": {
    "collapsed": true
   },
   "outputs": [],
   "source": []
  }
 ],
 "metadata": {
  "kernelspec": {
   "display_name": "Python 3",
   "language": "python",
   "name": "python3"
  },
  "language_info": {
   "codemirror_mode": {
    "name": "ipython",
    "version": 3
   },
   "file_extension": ".py",
   "mimetype": "text/x-python",
   "name": "python",
   "nbconvert_exporter": "python",
   "pygments_lexer": "ipython3",
   "version": "3.5.3"
  }
 },
 "nbformat": 4,
 "nbformat_minor": 2
}
